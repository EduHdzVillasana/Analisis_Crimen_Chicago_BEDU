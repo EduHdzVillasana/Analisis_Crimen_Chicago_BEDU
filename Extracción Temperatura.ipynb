{
  "nbformat": 4,
  "nbformat_minor": 0,
  "metadata": {
    "colab": {
      "name": "Chicago_mi_parte.ipynb",
      "provenance": [],
      "collapsed_sections": []
    },
    "kernelspec": {
      "name": "python3",
      "display_name": "Python 3"
    },
    "language_info": {
      "name": "python"
    }
  },
  "cells": [
    {
      "source": [
        "# Recolección de datos meteorológicos de Chicago\n",
        "Se ha extraerá el regístro histórico de las temperaturas de Chicago mediante una api de la **[National Oceanic and Atmospheric Administration](https://www.ncdc.noaa.gov/cdo-web/webservices/v2#dataCategories).**"
      ],
      "cell_type": "markdown",
      "metadata": {}
    },
    {
      "source": [
        "## Parámetros de llamada y respuesta de la Api\n",
        "**Parámetros de llamada**\n",
        "* `datasetid`: El id del dataset al que se llama. En este caso se rquiere los resúmenes diarios (*GHCND*)\n",
        "* `datatype`: Variable que se pide. En este caso temperatura tomada por varias estaciones climáticas (*TOBS*)\n",
        "* `locarionid`: Id de la ciudad, en este caso se pide Chicago (*CITY:US170006*)\n",
        "* `startdaye` y `enddate`: Periodo del tiempo por el que se pide el registro, como solo se permite de menos de un año se tendrán que hacer varias llamadas a la Api.\n",
        "* `limit`: Límite de registros de respuesta, el limite máximo es 1000.\n",
        "* `units`: Sistema internacional de la temperatura, se usará el sistema métric (*metric*)"
      ],
      "cell_type": "markdown",
      "metadata": {}
    },
    {
      "cell_type": "code",
      "metadata": {
        "id": "bQoseSnOS7bJ"
      },
      "source": [
        "import pandas as pd\n",
        "import numpy as np\n",
        "import matplotlib.pyplot as plt\n",
        "import seaborn as sns\n",
        "import os\n",
        "from datetime import date"
      ],
      "execution_count": null,
      "outputs": []
    },
    {
      "cell_type": "code",
      "metadata": {
        "id": "fY9WPBl0S8ta"
      },
      "source": [
        "mainpath = \"/content/drive/MyDrive/Colab Notebooks/BEDU/Datos Análisis del Crimen en Chicago\"\n",
        "filename = \"Crimes_2001-2021_clean.csv\"\n",
        "df = pd.read_csv(os.path.join(mainpath, filename), index_col=0)"
      ],
      "execution_count": null,
      "outputs": []
    },
    {
      "cell_type": "code",
      "metadata": {
        "colab": {
          "base_uri": "https://localhost:8080/",
          "height": 400
        },
        "id": "5xDoZhoSTbOi",
        "outputId": "bd174684-77ca-4556-9289-22b9904620ca"
      },
      "source": [
        "df.head(5)"
      ],
      "execution_count": null,
      "outputs": [
        {
          "output_type": "execute_result",
          "data": {
            "text/html": [
              "<div>\n",
              "<style scoped>\n",
              "    .dataframe tbody tr th:only-of-type {\n",
              "        vertical-align: middle;\n",
              "    }\n",
              "\n",
              "    .dataframe tbody tr th {\n",
              "        vertical-align: top;\n",
              "    }\n",
              "\n",
              "    .dataframe thead th {\n",
              "        text-align: right;\n",
              "    }\n",
              "</style>\n",
              "<table border=\"1\" class=\"dataframe\">\n",
              "  <thead>\n",
              "    <tr style=\"text-align: right;\">\n",
              "      <th></th>\n",
              "      <th>ID</th>\n",
              "      <th>Case Number</th>\n",
              "      <th>Date</th>\n",
              "      <th>Block</th>\n",
              "      <th>IUCR</th>\n",
              "      <th>Primary Type</th>\n",
              "      <th>Description</th>\n",
              "      <th>Location Description</th>\n",
              "      <th>Arrest</th>\n",
              "      <th>Domestic</th>\n",
              "      <th>Beat</th>\n",
              "      <th>District</th>\n",
              "      <th>Ward</th>\n",
              "      <th>Community Area</th>\n",
              "      <th>FBI Code</th>\n",
              "      <th>X Coordinate</th>\n",
              "      <th>Y Coordinate</th>\n",
              "      <th>Year</th>\n",
              "      <th>Updated On</th>\n",
              "      <th>Latitude</th>\n",
              "      <th>Longitude</th>\n",
              "      <th>Location</th>\n",
              "    </tr>\n",
              "  </thead>\n",
              "  <tbody>\n",
              "    <tr>\n",
              "      <th>0</th>\n",
              "      <td>10224738</td>\n",
              "      <td>HY411648</td>\n",
              "      <td>2015-09-05 13:30:00</td>\n",
              "      <td>043XX S WOOD ST</td>\n",
              "      <td>0486</td>\n",
              "      <td>BATTERY</td>\n",
              "      <td>DOMESTIC BATTERY SIMPLE</td>\n",
              "      <td>RESIDENCE</td>\n",
              "      <td>False</td>\n",
              "      <td>True</td>\n",
              "      <td>924</td>\n",
              "      <td>9.0</td>\n",
              "      <td>12.0</td>\n",
              "      <td>61.0</td>\n",
              "      <td>08B</td>\n",
              "      <td>1165074.0</td>\n",
              "      <td>1875917.0</td>\n",
              "      <td>2015</td>\n",
              "      <td>2018-02-10 15:50:01</td>\n",
              "      <td>41.815117</td>\n",
              "      <td>-87.670000</td>\n",
              "      <td>(41.815117282, -87.669999562)</td>\n",
              "    </tr>\n",
              "    <tr>\n",
              "      <th>1</th>\n",
              "      <td>10224739</td>\n",
              "      <td>HY411615</td>\n",
              "      <td>2015-09-04 11:30:00</td>\n",
              "      <td>008XX N CENTRAL AVE</td>\n",
              "      <td>0870</td>\n",
              "      <td>THEFT</td>\n",
              "      <td>POCKET-PICKING</td>\n",
              "      <td>CTA BUS</td>\n",
              "      <td>False</td>\n",
              "      <td>False</td>\n",
              "      <td>1511</td>\n",
              "      <td>15.0</td>\n",
              "      <td>29.0</td>\n",
              "      <td>25.0</td>\n",
              "      <td>06</td>\n",
              "      <td>1138875.0</td>\n",
              "      <td>1904869.0</td>\n",
              "      <td>2015</td>\n",
              "      <td>2018-02-10 15:50:01</td>\n",
              "      <td>41.895080</td>\n",
              "      <td>-87.765400</td>\n",
              "      <td>(41.895080471, -87.765400451)</td>\n",
              "    </tr>\n",
              "    <tr>\n",
              "      <th>3</th>\n",
              "      <td>10224740</td>\n",
              "      <td>HY411595</td>\n",
              "      <td>2015-09-05 12:45:00</td>\n",
              "      <td>035XX W BARRY AVE</td>\n",
              "      <td>2023</td>\n",
              "      <td>NARCOTICS</td>\n",
              "      <td>POSS: HEROIN(BRN/TAN)</td>\n",
              "      <td>SIDEWALK</td>\n",
              "      <td>True</td>\n",
              "      <td>False</td>\n",
              "      <td>1412</td>\n",
              "      <td>14.0</td>\n",
              "      <td>35.0</td>\n",
              "      <td>21.0</td>\n",
              "      <td>18</td>\n",
              "      <td>1152037.0</td>\n",
              "      <td>1920384.0</td>\n",
              "      <td>2015</td>\n",
              "      <td>2018-02-10 15:50:01</td>\n",
              "      <td>41.937406</td>\n",
              "      <td>-87.716650</td>\n",
              "      <td>(41.937405765, -87.716649687)</td>\n",
              "    </tr>\n",
              "    <tr>\n",
              "      <th>4</th>\n",
              "      <td>10224741</td>\n",
              "      <td>HY411610</td>\n",
              "      <td>2015-09-05 13:00:00</td>\n",
              "      <td>0000X N LARAMIE AVE</td>\n",
              "      <td>0560</td>\n",
              "      <td>ASSAULT</td>\n",
              "      <td>SIMPLE</td>\n",
              "      <td>APARTMENT</td>\n",
              "      <td>False</td>\n",
              "      <td>True</td>\n",
              "      <td>1522</td>\n",
              "      <td>15.0</td>\n",
              "      <td>28.0</td>\n",
              "      <td>25.0</td>\n",
              "      <td>08A</td>\n",
              "      <td>1141706.0</td>\n",
              "      <td>1900086.0</td>\n",
              "      <td>2015</td>\n",
              "      <td>2018-02-10 15:50:01</td>\n",
              "      <td>41.881903</td>\n",
              "      <td>-87.755121</td>\n",
              "      <td>(41.881903443, -87.755121152)</td>\n",
              "    </tr>\n",
              "    <tr>\n",
              "      <th>5</th>\n",
              "      <td>10224742</td>\n",
              "      <td>HY411435</td>\n",
              "      <td>2015-09-05 10:55:00</td>\n",
              "      <td>082XX S LOOMIS BLVD</td>\n",
              "      <td>0610</td>\n",
              "      <td>BURGLARY</td>\n",
              "      <td>FORCIBLE ENTRY</td>\n",
              "      <td>RESIDENCE</td>\n",
              "      <td>False</td>\n",
              "      <td>False</td>\n",
              "      <td>614</td>\n",
              "      <td>6.0</td>\n",
              "      <td>21.0</td>\n",
              "      <td>71.0</td>\n",
              "      <td>05</td>\n",
              "      <td>1168430.0</td>\n",
              "      <td>1850165.0</td>\n",
              "      <td>2015</td>\n",
              "      <td>2018-02-10 15:50:01</td>\n",
              "      <td>41.744379</td>\n",
              "      <td>-87.658431</td>\n",
              "      <td>(41.744378879, -87.658430635)</td>\n",
              "    </tr>\n",
              "  </tbody>\n",
              "</table>\n",
              "</div>"
            ],
            "text/plain": [
              "         ID Case Number  ...  Longitude                       Location\n",
              "0  10224738    HY411648  ... -87.670000  (41.815117282, -87.669999562)\n",
              "1  10224739    HY411615  ... -87.765400  (41.895080471, -87.765400451)\n",
              "3  10224740    HY411595  ... -87.716650  (41.937405765, -87.716649687)\n",
              "4  10224741    HY411610  ... -87.755121  (41.881903443, -87.755121152)\n",
              "5  10224742    HY411435  ... -87.658431  (41.744378879, -87.658430635)\n",
              "\n",
              "[5 rows x 22 columns]"
            ]
          },
          "metadata": {
            "tags": []
          },
          "execution_count": 3
        }
      ]
    },
    {
      "cell_type": "code",
      "metadata": {
        "id": "TdrAjeWTTgeZ"
      },
      "source": [
        "df['Date'] = pd.to_datetime(df.Date)"
      ],
      "execution_count": null,
      "outputs": []
    },
    {
      "source": [
        "Se crea una lista de las fechas usadas para `startdate` y `enddate`."
      ],
      "cell_type": "markdown",
      "metadata": {}
    },
    {
      "cell_type": "code",
      "metadata": {
        "colab": {
          "base_uri": "https://localhost:8080/"
        },
        "id": "0w9YZdZAeVAy",
        "outputId": "12d9b755-d451-4ccb-ba6d-6da650bcd6df"
      },
      "source": [
        "dates = []\n",
        "for i in range(20):\n",
        "  dates.append((f\"{2001+i}-01-01\",f\"{2001+i}-04-01\"))\n",
        "  dates.append((f\"{2001+i}-04-01\",f\"{2001+i}-08-01\"))\n",
        "  dates.append((f\"{2001+i}-08-01\",f\"{2001+i}-12-01\"))\n",
        "  dates.append((f\"{2001+i}-12-01\",f\"{2002+i}-01-01\"))\n",
        "dates"
      ],
      "execution_count": null,
      "outputs": [
        {
          "output_type": "execute_result",
          "data": {
            "text/plain": [
              "[('2001-01-01', '2001-04-01'),\n",
              " ('2001-04-01', '2001-08-01'),\n",
              " ('2001-08-01', '2001-12-01'),\n",
              " ('2001-12-01', '2002-01-01'),\n",
              " ('2002-01-01', '2002-04-01'),\n",
              " ('2002-04-01', '2002-08-01'),\n",
              " ('2002-08-01', '2002-12-01'),\n",
              " ('2002-12-01', '2003-01-01'),\n",
              " ('2003-01-01', '2003-04-01'),\n",
              " ('2003-04-01', '2003-08-01'),\n",
              " ('2003-08-01', '2003-12-01'),\n",
              " ('2003-12-01', '2004-01-01'),\n",
              " ('2004-01-01', '2004-04-01'),\n",
              " ('2004-04-01', '2004-08-01'),\n",
              " ('2004-08-01', '2004-12-01'),\n",
              " ('2004-12-01', '2005-01-01'),\n",
              " ('2005-01-01', '2005-04-01'),\n",
              " ('2005-04-01', '2005-08-01'),\n",
              " ('2005-08-01', '2005-12-01'),\n",
              " ('2005-12-01', '2006-01-01'),\n",
              " ('2006-01-01', '2006-04-01'),\n",
              " ('2006-04-01', '2006-08-01'),\n",
              " ('2006-08-01', '2006-12-01'),\n",
              " ('2006-12-01', '2007-01-01'),\n",
              " ('2007-01-01', '2007-04-01'),\n",
              " ('2007-04-01', '2007-08-01'),\n",
              " ('2007-08-01', '2007-12-01'),\n",
              " ('2007-12-01', '2008-01-01'),\n",
              " ('2008-01-01', '2008-04-01'),\n",
              " ('2008-04-01', '2008-08-01'),\n",
              " ('2008-08-01', '2008-12-01'),\n",
              " ('2008-12-01', '2009-01-01'),\n",
              " ('2009-01-01', '2009-04-01'),\n",
              " ('2009-04-01', '2009-08-01'),\n",
              " ('2009-08-01', '2009-12-01'),\n",
              " ('2009-12-01', '2010-01-01'),\n",
              " ('2010-01-01', '2010-04-01'),\n",
              " ('2010-04-01', '2010-08-01'),\n",
              " ('2010-08-01', '2010-12-01'),\n",
              " ('2010-12-01', '2011-01-01'),\n",
              " ('2011-01-01', '2011-04-01'),\n",
              " ('2011-04-01', '2011-08-01'),\n",
              " ('2011-08-01', '2011-12-01'),\n",
              " ('2011-12-01', '2012-01-01'),\n",
              " ('2012-01-01', '2012-04-01'),\n",
              " ('2012-04-01', '2012-08-01'),\n",
              " ('2012-08-01', '2012-12-01'),\n",
              " ('2012-12-01', '2013-01-01'),\n",
              " ('2013-01-01', '2013-04-01'),\n",
              " ('2013-04-01', '2013-08-01'),\n",
              " ('2013-08-01', '2013-12-01'),\n",
              " ('2013-12-01', '2014-01-01'),\n",
              " ('2014-01-01', '2014-04-01'),\n",
              " ('2014-04-01', '2014-08-01'),\n",
              " ('2014-08-01', '2014-12-01'),\n",
              " ('2014-12-01', '2015-01-01'),\n",
              " ('2015-01-01', '2015-04-01'),\n",
              " ('2015-04-01', '2015-08-01'),\n",
              " ('2015-08-01', '2015-12-01'),\n",
              " ('2015-12-01', '2016-01-01'),\n",
              " ('2016-01-01', '2016-04-01'),\n",
              " ('2016-04-01', '2016-08-01'),\n",
              " ('2016-08-01', '2016-12-01'),\n",
              " ('2016-12-01', '2017-01-01'),\n",
              " ('2017-01-01', '2017-04-01'),\n",
              " ('2017-04-01', '2017-08-01'),\n",
              " ('2017-08-01', '2017-12-01'),\n",
              " ('2017-12-01', '2018-01-01'),\n",
              " ('2018-01-01', '2018-04-01'),\n",
              " ('2018-04-01', '2018-08-01'),\n",
              " ('2018-08-01', '2018-12-01'),\n",
              " ('2018-12-01', '2019-01-01'),\n",
              " ('2019-01-01', '2019-04-01'),\n",
              " ('2019-04-01', '2019-08-01'),\n",
              " ('2019-08-01', '2019-12-01'),\n",
              " ('2019-12-01', '2020-01-01'),\n",
              " ('2020-01-01', '2020-04-01'),\n",
              " ('2020-04-01', '2020-08-01'),\n",
              " ('2020-08-01', '2020-12-01'),\n",
              " ('2020-12-01', '2021-01-01')]"
            ]
          },
          "metadata": {
            "tags": []
          },
          "execution_count": 31
        }
      ]
    },
    {
      "cell_type": "code",
      "metadata": {
        "id": "INetzvqBY9qa"
      },
      "source": [
        "dates = dates + [(\"2021-01-01\",\"2021-04-18\")]"
      ],
      "execution_count": null,
      "outputs": []
    },
    {
      "cell_type": "code",
      "metadata": {
        "colab": {
          "base_uri": "https://localhost:8080/"
        },
        "id": "fuGy4iaFZMlP",
        "outputId": "9a085638-e728-4f68-9d9b-4f790339cd76"
      },
      "source": [
        "len(dates)"
      ],
      "execution_count": null,
      "outputs": [
        {
          "output_type": "execute_result",
          "data": {
            "text/plain": [
              "81"
            ]
          },
          "metadata": {
            "tags": []
          },
          "execution_count": 69
        }
      ]
    },
    {
      "cell_type": "code",
      "execution_count": null,
      "metadata": {},
      "outputs": [],
      "source": [
        "Se crea una función que realiza la llamada a la Api y devuelve la lista de los regístros."
      ]
    },
    {
      "cell_type": "code",
      "metadata": {
        "id": "ZQzFFtM2m9WZ"
      },
      "source": [
        "def get_temp (start_date, end_date, i = 0):\n",
        "  import requests\n",
        "  import time\n",
        "  import json\n",
        "  url = f\"https://www.ncdc.noaa.gov/cdo-web/api/v2/data?datasetid=GHCND&datatypeid=TOBS&locationid=CITY:US170006&startdate={start_date}&enddate={end_date}&limit=1000&units=metric\"\n",
        "  keys = [\"VGDFpmAjvjmRAmKeaFRkwxtMIbPfpTje\",\"WWwPiFGLWsSDvoUzNBUZWcfuOndqSLeZ\",\"hOOWnDUWaUvgKvxARAdTOYODHSGkDTkI\",\"JYfqQBpiduegkObltJEoknxhZhhsnLbR\",\"lXnaXOoVmcwuRrowYZEerCWWDjrcgwxG\",\"geUKvlTNGsYHcYXBftIIddAYnnlCFFWS\",\"YoNPimEmuMSZmAxdqkxqiIwjQRErMVUn\",\"bxrtXMkWzaQUWBxdgzMkKAgQsuIuzRPe\"]\n",
        "  payload={}\n",
        "  headers = {\n",
        "    'token': keys[i%len(keys)]\n",
        "  }\n",
        "  start = time.time()\n",
        "  response = requests.request(\"GET\", url, headers=headers, data=payload)\n",
        "  end = time.time()\n",
        "  temp = []\n",
        "  if (response.status_code == 200 and response.text != \"{}\"):\n",
        "    json_data = json.loads(response.text)\n",
        "    temp = json_data[\"results\"]\n",
        "    print(f\"\\r{i}\\t\\t{start_date} - {end_date}\\t\\t{end-start}\", end = \"\")\n",
        "    if json_data[\"metadata\"][\"resultset\"][\"count\"] > 1000:\n",
        "      print (f\"Limite excedido{start_date}-{end_date}    Codigo{response.status_code}\")\n",
        "  else:\n",
        "    print (f\"Error Fecha{start_date}-{end_date}    Codigo{response.status_code}\")\n",
        "  time.sleep(0.2)\n",
        "  return temp"
      ],
      "execution_count": null,
      "outputs": []
    },
    {
      "source": [
        "Se hace un ciclo for para hacer las peticiones de cada fecha necesaria. Se hace también un registro de errores para volver a hacer otra petición disminuyendo el tamaño del periodo de tiempo pedido."
      ],
      "cell_type": "markdown",
      "metadata": {}
    },
    {
      "cell_type": "code",
      "metadata": {
        "colab": {
          "base_uri": "https://localhost:8080/"
        },
        "id": "rKr8CU_6PKbw",
        "outputId": "62534b1b-923b-4d7c-c7c7-1cf4e97f9d75"
      },
      "source": [
        "i = 0\n",
        "data_list = []\n",
        "for date in dates:\n",
        "  data_td = get_temp(date[0],date[1],i)\n",
        "  i = i+1\n",
        "  data_list = data_list + data_td"
      ],
      "execution_count": null,
      "outputs": [
        {
          "output_type": "stream",
          "text": [
            "41\t\t2011-04-01 - 2011-08-01\t\t1.7392470836639404Limite excedido2011-04-01-2011-08-01    Codigo200\n",
            "67\t\t2017-12-01 - 2018-01-01\t\t14.946911096572876Error Fecha2018-01-01-2018-04-01    Codigo503\n",
            "82\t\t2011-06-01 - 2011-08-01\t\t1.3437387943267822"
          ],
          "name": "stdout"
        }
      ]
    },
    {
      "cell_type": "code",
      "metadata": {
        "id": "SOa4kUDvfepG"
      },
      "source": [
        "dates_extra = []\n",
        "dates_extra.append((\"2011-04-01\",\"2011-06-01\"))\n",
        "dates_extra.append((\"2011-06-01\",\"2011-08-01\"))\n",
        "dates_extra.append((\"2018-01-01\",\"2018-02-01\"))\n",
        "dates_extra.append((\"2018-02-01\",\"2018-04-01\"))"
      ],
      "execution_count": null,
      "outputs": []
    },
    {
      "cell_type": "code",
      "metadata": {
        "colab": {
          "base_uri": "https://localhost:8080/"
        },
        "id": "aTI0rTh0fxdG",
        "outputId": "798cc54c-c4ae-4934-ddb2-ac841d716164"
      },
      "source": [
        "for date in dates_extra:\n",
        "  data_td = get_temp(date[0],date[1],i)\n",
        "  i = i+1\n",
        "  data_list = data_list + data_td"
      ],
      "execution_count": null,
      "outputs": [
        {
          "output_type": "stream",
          "text": [
            "84\t\t2018-02-01 - 2018-04-01\t\t11.11660099029541"
          ],
          "name": "stdout"
        }
      ]
    },
    {
      "cell_type": "code",
      "metadata": {
        "id": "09jZ5bxEgXwE"
      },
      "source": [
        "data_copy = data_list"
      ],
      "execution_count": null,
      "outputs": []
    },
    {
      "cell_type": "code",
      "metadata": {
        "colab": {
          "base_uri": "https://localhost:8080/",
          "height": 343
        },
        "id": "i-Fdi03Ngceg",
        "outputId": "4ced4d0e-c0bd-4338-b486-7b6da0cd63d1"
      },
      "source": [
        "data_api = pd.DataFrame(data_copy)\n",
        "data_api.tail(10)"
      ],
      "execution_count": null,
      "outputs": [
        {
          "output_type": "execute_result",
          "data": {
            "text/html": [
              "<div>\n",
              "<style scoped>\n",
              "    .dataframe tbody tr th:only-of-type {\n",
              "        vertical-align: middle;\n",
              "    }\n",
              "\n",
              "    .dataframe tbody tr th {\n",
              "        vertical-align: top;\n",
              "    }\n",
              "\n",
              "    .dataframe thead th {\n",
              "        text-align: right;\n",
              "    }\n",
              "</style>\n",
              "<table border=\"1\" class=\"dataframe\">\n",
              "  <thead>\n",
              "    <tr style=\"text-align: right;\">\n",
              "      <th></th>\n",
              "      <th>date</th>\n",
              "      <th>datatype</th>\n",
              "      <th>station</th>\n",
              "      <th>attributes</th>\n",
              "      <th>value</th>\n",
              "    </tr>\n",
              "  </thead>\n",
              "  <tbody>\n",
              "    <tr>\n",
              "      <th>57456</th>\n",
              "      <td>2018-03-31T00:00:00</td>\n",
              "      <td>TOBS</td>\n",
              "      <td>GHCND:USC00116616</td>\n",
              "      <td>,,7,0800</td>\n",
              "      <td>2.2</td>\n",
              "    </tr>\n",
              "    <tr>\n",
              "      <th>57457</th>\n",
              "      <td>2018-03-31T00:00:00</td>\n",
              "      <td>TOBS</td>\n",
              "      <td>GHCND:USC00117457</td>\n",
              "      <td>,,7,2400</td>\n",
              "      <td>-0.6</td>\n",
              "    </tr>\n",
              "    <tr>\n",
              "      <th>57458</th>\n",
              "      <td>2018-04-01T00:00:00</td>\n",
              "      <td>TOBS</td>\n",
              "      <td>GHCND:USC00110442</td>\n",
              "      <td>,,7,0800</td>\n",
              "      <td>-5.0</td>\n",
              "    </tr>\n",
              "    <tr>\n",
              "      <th>57459</th>\n",
              "      <td>2018-04-01T00:00:00</td>\n",
              "      <td>TOBS</td>\n",
              "      <td>GHCND:USC00111497</td>\n",
              "      <td>,,7,0800</td>\n",
              "      <td>-3.9</td>\n",
              "    </tr>\n",
              "    <tr>\n",
              "      <th>57460</th>\n",
              "      <td>2018-04-01T00:00:00</td>\n",
              "      <td>TOBS</td>\n",
              "      <td>GHCND:USC00111550</td>\n",
              "      <td>,,7,2400</td>\n",
              "      <td>-1.7</td>\n",
              "    </tr>\n",
              "    <tr>\n",
              "      <th>57461</th>\n",
              "      <td>2018-04-01T00:00:00</td>\n",
              "      <td>TOBS</td>\n",
              "      <td>GHCND:USC00111577</td>\n",
              "      <td>,,7,2400</td>\n",
              "      <td>-3.3</td>\n",
              "    </tr>\n",
              "    <tr>\n",
              "      <th>57462</th>\n",
              "      <td>2018-04-01T00:00:00</td>\n",
              "      <td>TOBS</td>\n",
              "      <td>GHCND:USC00115097</td>\n",
              "      <td>,,7,0700</td>\n",
              "      <td>-2.2</td>\n",
              "    </tr>\n",
              "    <tr>\n",
              "      <th>57463</th>\n",
              "      <td>2018-04-01T00:00:00</td>\n",
              "      <td>TOBS</td>\n",
              "      <td>GHCND:USC00115110</td>\n",
              "      <td>,,7,</td>\n",
              "      <td>3.9</td>\n",
              "    </tr>\n",
              "    <tr>\n",
              "      <th>57464</th>\n",
              "      <td>2018-04-01T00:00:00</td>\n",
              "      <td>TOBS</td>\n",
              "      <td>GHCND:USC00116616</td>\n",
              "      <td>,,7,0800</td>\n",
              "      <td>-2.2</td>\n",
              "    </tr>\n",
              "    <tr>\n",
              "      <th>57465</th>\n",
              "      <td>2018-04-01T00:00:00</td>\n",
              "      <td>TOBS</td>\n",
              "      <td>GHCND:USC00117457</td>\n",
              "      <td>,,7,2400</td>\n",
              "      <td>-5.6</td>\n",
              "    </tr>\n",
              "  </tbody>\n",
              "</table>\n",
              "</div>"
            ],
            "text/plain": [
              "                      date datatype            station attributes  value\n",
              "57456  2018-03-31T00:00:00     TOBS  GHCND:USC00116616   ,,7,0800    2.2\n",
              "57457  2018-03-31T00:00:00     TOBS  GHCND:USC00117457   ,,7,2400   -0.6\n",
              "57458  2018-04-01T00:00:00     TOBS  GHCND:USC00110442   ,,7,0800   -5.0\n",
              "57459  2018-04-01T00:00:00     TOBS  GHCND:USC00111497   ,,7,0800   -3.9\n",
              "57460  2018-04-01T00:00:00     TOBS  GHCND:USC00111550   ,,7,2400   -1.7\n",
              "57461  2018-04-01T00:00:00     TOBS  GHCND:USC00111577   ,,7,2400   -3.3\n",
              "57462  2018-04-01T00:00:00     TOBS  GHCND:USC00115097   ,,7,0700   -2.2\n",
              "57463  2018-04-01T00:00:00     TOBS  GHCND:USC00115110       ,,7,    3.9\n",
              "57464  2018-04-01T00:00:00     TOBS  GHCND:USC00116616   ,,7,0800   -2.2\n",
              "57465  2018-04-01T00:00:00     TOBS  GHCND:USC00117457   ,,7,2400   -5.6"
            ]
          },
          "metadata": {
            "tags": []
          },
          "execution_count": 98
        }
      ]
    },
    {
      "cell_type": "code",
      "metadata": {
        "id": "GB0l33ZnMHxy",
        "colab": {
          "base_uri": "https://localhost:8080/",
          "height": 195
        },
        "outputId": "cdd6de5e-5157-4b33-87a9-b044d84511ca"
      },
      "source": [
        "data_api[\"date\"] = data_api[\"date\"].apply(lambda x: x[:10])\n",
        "data_api.sample(5)"
      ],
      "execution_count": null,
      "outputs": [
        {
          "output_type": "execute_result",
          "data": {
            "text/html": [
              "<div>\n",
              "<style scoped>\n",
              "    .dataframe tbody tr th:only-of-type {\n",
              "        vertical-align: middle;\n",
              "    }\n",
              "\n",
              "    .dataframe tbody tr th {\n",
              "        vertical-align: top;\n",
              "    }\n",
              "\n",
              "    .dataframe thead th {\n",
              "        text-align: right;\n",
              "    }\n",
              "</style>\n",
              "<table border=\"1\" class=\"dataframe\">\n",
              "  <thead>\n",
              "    <tr style=\"text-align: right;\">\n",
              "      <th></th>\n",
              "      <th>date</th>\n",
              "      <th>datatype</th>\n",
              "      <th>station</th>\n",
              "      <th>attributes</th>\n",
              "      <th>value</th>\n",
              "    </tr>\n",
              "  </thead>\n",
              "  <tbody>\n",
              "    <tr>\n",
              "      <th>17347</th>\n",
              "      <td>2007-07-11</td>\n",
              "      <td>TOBS</td>\n",
              "      <td>GHCND:USC00111497</td>\n",
              "      <td>,,0,0800</td>\n",
              "      <td>17.8</td>\n",
              "    </tr>\n",
              "    <tr>\n",
              "      <th>35757</th>\n",
              "      <td>2013-12-15</td>\n",
              "      <td>TOBS</td>\n",
              "      <td>GHCND:USC00117457</td>\n",
              "      <td>,,7,2400</td>\n",
              "      <td>-11.1</td>\n",
              "    </tr>\n",
              "    <tr>\n",
              "      <th>38997</th>\n",
              "      <td>2015-01-24</td>\n",
              "      <td>TOBS</td>\n",
              "      <td>GHCND:USC00111577</td>\n",
              "      <td>,,7,2400</td>\n",
              "      <td>1.7</td>\n",
              "    </tr>\n",
              "    <tr>\n",
              "      <th>36418</th>\n",
              "      <td>2014-03-09</td>\n",
              "      <td>TOBS</td>\n",
              "      <td>GHCND:USC00117457</td>\n",
              "      <td>,,7,2400</td>\n",
              "      <td>3.3</td>\n",
              "    </tr>\n",
              "    <tr>\n",
              "      <th>31562</th>\n",
              "      <td>2012-05-14</td>\n",
              "      <td>TOBS</td>\n",
              "      <td>GHCND:USC00111497</td>\n",
              "      <td>,,7,0800</td>\n",
              "      <td>16.7</td>\n",
              "    </tr>\n",
              "  </tbody>\n",
              "</table>\n",
              "</div>"
            ],
            "text/plain": [
              "             date datatype            station attributes  value\n",
              "17347  2007-07-11     TOBS  GHCND:USC00111497   ,,0,0800   17.8\n",
              "35757  2013-12-15     TOBS  GHCND:USC00117457   ,,7,2400  -11.1\n",
              "38997  2015-01-24     TOBS  GHCND:USC00111577   ,,7,2400    1.7\n",
              "36418  2014-03-09     TOBS  GHCND:USC00117457   ,,7,2400    3.3\n",
              "31562  2012-05-14     TOBS  GHCND:USC00111497   ,,7,0800   16.7"
            ]
          },
          "metadata": {
            "tags": []
          },
          "execution_count": 99
        }
      ]
    },
    {
      "cell_type": "code",
      "metadata": {
        "colab": {
          "base_uri": "https://localhost:8080/",
          "height": 195
        },
        "id": "kWWoR1nvl0j_",
        "outputId": "a00b9b84-cc89-4d58-aa3f-6708c83c559d"
      },
      "source": [
        "data_api[\"date\"] = pd.to_datetime(data_api.date)\n",
        "data_api.sample(5)"
      ],
      "execution_count": null,
      "outputs": [
        {
          "output_type": "execute_result",
          "data": {
            "text/html": [
              "<div>\n",
              "<style scoped>\n",
              "    .dataframe tbody tr th:only-of-type {\n",
              "        vertical-align: middle;\n",
              "    }\n",
              "\n",
              "    .dataframe tbody tr th {\n",
              "        vertical-align: top;\n",
              "    }\n",
              "\n",
              "    .dataframe thead th {\n",
              "        text-align: right;\n",
              "    }\n",
              "</style>\n",
              "<table border=\"1\" class=\"dataframe\">\n",
              "  <thead>\n",
              "    <tr style=\"text-align: right;\">\n",
              "      <th></th>\n",
              "      <th>date</th>\n",
              "      <th>datatype</th>\n",
              "      <th>station</th>\n",
              "      <th>attributes</th>\n",
              "      <th>value</th>\n",
              "    </tr>\n",
              "  </thead>\n",
              "  <tbody>\n",
              "    <tr>\n",
              "      <th>51335</th>\n",
              "      <td>2019-07-22</td>\n",
              "      <td>TOBS</td>\n",
              "      <td>GHCND:USC00111577</td>\n",
              "      <td>,,7,2400</td>\n",
              "      <td>17.2</td>\n",
              "    </tr>\n",
              "    <tr>\n",
              "      <th>43195</th>\n",
              "      <td>2016-07-05</td>\n",
              "      <td>TOBS</td>\n",
              "      <td>GHCND:USC00111550</td>\n",
              "      <td>,,7,2400</td>\n",
              "      <td>25.0</td>\n",
              "    </tr>\n",
              "    <tr>\n",
              "      <th>2586</th>\n",
              "      <td>2002-01-01</td>\n",
              "      <td>TOBS</td>\n",
              "      <td>GHCND:USC00118324</td>\n",
              "      <td>,,0,0700</td>\n",
              "      <td>-13.3</td>\n",
              "    </tr>\n",
              "    <tr>\n",
              "      <th>54783</th>\n",
              "      <td>2020-12-06</td>\n",
              "      <td>TOBS</td>\n",
              "      <td>GHCND:USC00116616</td>\n",
              "      <td>,,7,0800</td>\n",
              "      <td>0.0</td>\n",
              "    </tr>\n",
              "    <tr>\n",
              "      <th>16834</th>\n",
              "      <td>2007-04-29</td>\n",
              "      <td>TOBS</td>\n",
              "      <td>GHCND:USC00117457</td>\n",
              "      <td>,,0,2400</td>\n",
              "      <td>19.4</td>\n",
              "    </tr>\n",
              "  </tbody>\n",
              "</table>\n",
              "</div>"
            ],
            "text/plain": [
              "            date datatype            station attributes  value\n",
              "51335 2019-07-22     TOBS  GHCND:USC00111577   ,,7,2400   17.2\n",
              "43195 2016-07-05     TOBS  GHCND:USC00111550   ,,7,2400   25.0\n",
              "2586  2002-01-01     TOBS  GHCND:USC00118324   ,,0,0700  -13.3\n",
              "54783 2020-12-06     TOBS  GHCND:USC00116616   ,,7,0800    0.0\n",
              "16834 2007-04-29     TOBS  GHCND:USC00117457   ,,0,2400   19.4"
            ]
          },
          "metadata": {
            "tags": []
          },
          "execution_count": 100
        }
      ]
    },
    {
      "cell_type": "code",
      "metadata": {
        "colab": {
          "base_uri": "https://localhost:8080/"
        },
        "id": "oTEC6m3ll9Ue",
        "outputId": "0d04b4b5-a64f-455a-bc25-11772367ae43"
      },
      "source": [
        "data_api.dtypes"
      ],
      "execution_count": null,
      "outputs": [
        {
          "output_type": "execute_result",
          "data": {
            "text/plain": [
              "date          datetime64[ns]\n",
              "datatype              object\n",
              "station               object\n",
              "attributes            object\n",
              "value                float64\n",
              "dtype: object"
            ]
          },
          "metadata": {
            "tags": []
          },
          "execution_count": 101
        }
      ]
    },
    {
      "cell_type": "code",
      "metadata": {
        "colab": {
          "base_uri": "https://localhost:8080/"
        },
        "id": "1w6RpE5VmHv9",
        "outputId": "c04168c4-cace-4854-98c0-65bf2b82c91a"
      },
      "source": [
        "#df_grouped_day = df_days.groupby(\"Day\")[\"Total\"].count()\n",
        "data_api_grouped = data_api.groupby(\"date\")[\"value\"].mean()\n",
        "data_api_grouped.head(10)"
      ],
      "execution_count": null,
      "outputs": [
        {
          "output_type": "execute_result",
          "data": {
            "text/plain": [
              "date\n",
              "2001-01-01   -10.871429\n",
              "2001-01-02   -13.257143\n",
              "2001-01-03    -6.585714\n",
              "2001-01-04    -4.757143\n",
              "2001-01-05    -2.300000\n",
              "2001-01-06    -4.757143\n",
              "2001-01-07    -2.071429\n",
              "2001-01-08    -8.471429\n",
              "2001-01-09    -9.900000\n",
              "2001-01-10    -5.000000\n",
              "Name: value, dtype: float64"
            ]
          },
          "metadata": {
            "tags": []
          },
          "execution_count": 102
        }
      ]
    },
    {
      "cell_type": "code",
      "metadata": {
        "colab": {
          "base_uri": "https://localhost:8080/"
        },
        "id": "ldc5NLqLmTOE",
        "outputId": "42aa23cb-8352-442b-9c7a-6cd8558a2fe9"
      },
      "source": [
        "len(data_api_grouped)"
      ],
      "execution_count": null,
      "outputs": [
        {
          "output_type": "execute_result",
          "data": {
            "text/plain": [
              "7413"
            ]
          },
          "metadata": {
            "tags": []
          },
          "execution_count": 106
        }
      ]
    },
    {
      "cell_type": "code",
      "metadata": {
        "colab": {
          "base_uri": "https://localhost:8080/",
          "height": 402
        },
        "id": "Z8fGjXWpn9_e",
        "outputId": "71d729f1-50ad-4bc1-f03f-dc6c89e0e5ef"
      },
      "source": [
        "df_grouped_day = pd.DataFrame({\"Date\":df_grouped_day.index,\"Total_Crimes\":df_grouped_day.values})\n",
        "df_grouped_day"
      ],
      "execution_count": null,
      "outputs": [
        {
          "output_type": "execute_result",
          "data": {
            "text/html": [
              "<div>\n",
              "<style scoped>\n",
              "    .dataframe tbody tr th:only-of-type {\n",
              "        vertical-align: middle;\n",
              "    }\n",
              "\n",
              "    .dataframe tbody tr th {\n",
              "        vertical-align: top;\n",
              "    }\n",
              "\n",
              "    .dataframe thead th {\n",
              "        text-align: right;\n",
              "    }\n",
              "</style>\n",
              "<table border=\"1\" class=\"dataframe\">\n",
              "  <thead>\n",
              "    <tr style=\"text-align: right;\">\n",
              "      <th></th>\n",
              "      <th>Date</th>\n",
              "      <th>Total_Crimes</th>\n",
              "    </tr>\n",
              "  </thead>\n",
              "  <tbody>\n",
              "    <tr>\n",
              "      <th>0</th>\n",
              "      <td>2001-01-01</td>\n",
              "      <td>274</td>\n",
              "    </tr>\n",
              "    <tr>\n",
              "      <th>1</th>\n",
              "      <td>2001-01-02</td>\n",
              "      <td>10</td>\n",
              "    </tr>\n",
              "    <tr>\n",
              "      <th>2</th>\n",
              "      <td>2001-01-03</td>\n",
              "      <td>4</td>\n",
              "    </tr>\n",
              "    <tr>\n",
              "      <th>3</th>\n",
              "      <td>2001-01-05</td>\n",
              "      <td>6</td>\n",
              "    </tr>\n",
              "    <tr>\n",
              "      <th>4</th>\n",
              "      <td>2001-01-06</td>\n",
              "      <td>6</td>\n",
              "    </tr>\n",
              "    <tr>\n",
              "      <th>...</th>\n",
              "      <td>...</td>\n",
              "      <td>...</td>\n",
              "    </tr>\n",
              "    <tr>\n",
              "      <th>7405</th>\n",
              "      <td>2021-04-14</td>\n",
              "      <td>434</td>\n",
              "    </tr>\n",
              "    <tr>\n",
              "      <th>7406</th>\n",
              "      <td>2021-04-15</td>\n",
              "      <td>443</td>\n",
              "    </tr>\n",
              "    <tr>\n",
              "      <th>7407</th>\n",
              "      <td>2021-04-16</td>\n",
              "      <td>458</td>\n",
              "    </tr>\n",
              "    <tr>\n",
              "      <th>7408</th>\n",
              "      <td>2021-04-17</td>\n",
              "      <td>474</td>\n",
              "    </tr>\n",
              "    <tr>\n",
              "      <th>7409</th>\n",
              "      <td>2021-04-18</td>\n",
              "      <td>1</td>\n",
              "    </tr>\n",
              "  </tbody>\n",
              "</table>\n",
              "<p>7410 rows × 2 columns</p>\n",
              "</div>"
            ],
            "text/plain": [
              "            Date  Total_Crimes\n",
              "0     2001-01-01           274\n",
              "1     2001-01-02            10\n",
              "2     2001-01-03             4\n",
              "3     2001-01-05             6\n",
              "4     2001-01-06             6\n",
              "...          ...           ...\n",
              "7405  2021-04-14           434\n",
              "7406  2021-04-15           443\n",
              "7407  2021-04-16           458\n",
              "7408  2021-04-17           474\n",
              "7409  2021-04-18             1\n",
              "\n",
              "[7410 rows x 2 columns]"
            ]
          },
          "metadata": {
            "tags": []
          },
          "execution_count": 43
        }
      ]
    },
    {
      "cell_type": "code",
      "metadata": {
        "colab": {
          "base_uri": "https://localhost:8080/",
          "height": 402
        },
        "id": "xizeXN1QoVv9",
        "outputId": "3f16eba7-9597-4cc7-ed4a-cb350512c3dc"
      },
      "source": [
        "#df_grouped_day = pd.DataFrame({\"Date\":df_grouped_day.index,\"Total_Crimes\":df_grouped_day.values})\n",
        "df_api = pd.DataFrame({\"Date\":data_api_grouped.index,\"Temperature\":data_api_grouped.values})\n",
        "df_api"
      ],
      "execution_count": null,
      "outputs": [
        {
          "output_type": "execute_result",
          "data": {
            "text/html": [
              "<div>\n",
              "<style scoped>\n",
              "    .dataframe tbody tr th:only-of-type {\n",
              "        vertical-align: middle;\n",
              "    }\n",
              "\n",
              "    .dataframe tbody tr th {\n",
              "        vertical-align: top;\n",
              "    }\n",
              "\n",
              "    .dataframe thead th {\n",
              "        text-align: right;\n",
              "    }\n",
              "</style>\n",
              "<table border=\"1\" class=\"dataframe\">\n",
              "  <thead>\n",
              "    <tr style=\"text-align: right;\">\n",
              "      <th></th>\n",
              "      <th>Date</th>\n",
              "      <th>Temperature</th>\n",
              "    </tr>\n",
              "  </thead>\n",
              "  <tbody>\n",
              "    <tr>\n",
              "      <th>0</th>\n",
              "      <td>2001-01-01</td>\n",
              "      <td>-10.871429</td>\n",
              "    </tr>\n",
              "    <tr>\n",
              "      <th>1</th>\n",
              "      <td>2001-01-02</td>\n",
              "      <td>-13.257143</td>\n",
              "    </tr>\n",
              "    <tr>\n",
              "      <th>2</th>\n",
              "      <td>2001-01-03</td>\n",
              "      <td>-6.585714</td>\n",
              "    </tr>\n",
              "    <tr>\n",
              "      <th>3</th>\n",
              "      <td>2001-01-04</td>\n",
              "      <td>-4.757143</td>\n",
              "    </tr>\n",
              "    <tr>\n",
              "      <th>4</th>\n",
              "      <td>2001-01-05</td>\n",
              "      <td>-2.300000</td>\n",
              "    </tr>\n",
              "    <tr>\n",
              "      <th>...</th>\n",
              "      <td>...</td>\n",
              "      <td>...</td>\n",
              "    </tr>\n",
              "    <tr>\n",
              "      <th>7408</th>\n",
              "      <td>2021-04-14</td>\n",
              "      <td>4.183333</td>\n",
              "    </tr>\n",
              "    <tr>\n",
              "      <th>7409</th>\n",
              "      <td>2021-04-15</td>\n",
              "      <td>5.142857</td>\n",
              "    </tr>\n",
              "    <tr>\n",
              "      <th>7410</th>\n",
              "      <td>2021-04-16</td>\n",
              "      <td>4.500000</td>\n",
              "    </tr>\n",
              "    <tr>\n",
              "      <th>7411</th>\n",
              "      <td>2021-04-17</td>\n",
              "      <td>4.028571</td>\n",
              "    </tr>\n",
              "    <tr>\n",
              "      <th>7412</th>\n",
              "      <td>2021-04-18</td>\n",
              "      <td>6.357143</td>\n",
              "    </tr>\n",
              "  </tbody>\n",
              "</table>\n",
              "<p>7413 rows × 2 columns</p>\n",
              "</div>"
            ],
            "text/plain": [
              "           Date  Temperature\n",
              "0    2001-01-01   -10.871429\n",
              "1    2001-01-02   -13.257143\n",
              "2    2001-01-03    -6.585714\n",
              "3    2001-01-04    -4.757143\n",
              "4    2001-01-05    -2.300000\n",
              "...         ...          ...\n",
              "7408 2021-04-14     4.183333\n",
              "7409 2021-04-15     5.142857\n",
              "7410 2021-04-16     4.500000\n",
              "7411 2021-04-17     4.028571\n",
              "7412 2021-04-18     6.357143\n",
              "\n",
              "[7413 rows x 2 columns]"
            ]
          },
          "metadata": {
            "tags": []
          },
          "execution_count": 107
        }
      ]
    },
    {
      "cell_type": "code",
      "metadata": {
        "colab": {
          "base_uri": "https://localhost:8080/",
          "height": 402
        },
        "id": "2C_A5Yt2oiXp",
        "outputId": "0aa671c8-9f9e-4a64-8b78-0f847889d0ca"
      },
      "source": [
        "df_grouped_day"
      ],
      "execution_count": null,
      "outputs": [
        {
          "output_type": "execute_result",
          "data": {
            "text/html": [
              "<div>\n",
              "<style scoped>\n",
              "    .dataframe tbody tr th:only-of-type {\n",
              "        vertical-align: middle;\n",
              "    }\n",
              "\n",
              "    .dataframe tbody tr th {\n",
              "        vertical-align: top;\n",
              "    }\n",
              "\n",
              "    .dataframe thead th {\n",
              "        text-align: right;\n",
              "    }\n",
              "</style>\n",
              "<table border=\"1\" class=\"dataframe\">\n",
              "  <thead>\n",
              "    <tr style=\"text-align: right;\">\n",
              "      <th></th>\n",
              "      <th>Date</th>\n",
              "      <th>Total_Crimes</th>\n",
              "    </tr>\n",
              "  </thead>\n",
              "  <tbody>\n",
              "    <tr>\n",
              "      <th>0</th>\n",
              "      <td>2001-01-01</td>\n",
              "      <td>274</td>\n",
              "    </tr>\n",
              "    <tr>\n",
              "      <th>1</th>\n",
              "      <td>2001-01-02</td>\n",
              "      <td>10</td>\n",
              "    </tr>\n",
              "    <tr>\n",
              "      <th>2</th>\n",
              "      <td>2001-01-03</td>\n",
              "      <td>4</td>\n",
              "    </tr>\n",
              "    <tr>\n",
              "      <th>3</th>\n",
              "      <td>2001-01-05</td>\n",
              "      <td>6</td>\n",
              "    </tr>\n",
              "    <tr>\n",
              "      <th>4</th>\n",
              "      <td>2001-01-06</td>\n",
              "      <td>6</td>\n",
              "    </tr>\n",
              "    <tr>\n",
              "      <th>...</th>\n",
              "      <td>...</td>\n",
              "      <td>...</td>\n",
              "    </tr>\n",
              "    <tr>\n",
              "      <th>7405</th>\n",
              "      <td>2021-04-14</td>\n",
              "      <td>434</td>\n",
              "    </tr>\n",
              "    <tr>\n",
              "      <th>7406</th>\n",
              "      <td>2021-04-15</td>\n",
              "      <td>443</td>\n",
              "    </tr>\n",
              "    <tr>\n",
              "      <th>7407</th>\n",
              "      <td>2021-04-16</td>\n",
              "      <td>458</td>\n",
              "    </tr>\n",
              "    <tr>\n",
              "      <th>7408</th>\n",
              "      <td>2021-04-17</td>\n",
              "      <td>474</td>\n",
              "    </tr>\n",
              "    <tr>\n",
              "      <th>7409</th>\n",
              "      <td>2021-04-18</td>\n",
              "      <td>1</td>\n",
              "    </tr>\n",
              "  </tbody>\n",
              "</table>\n",
              "<p>7410 rows × 2 columns</p>\n",
              "</div>"
            ],
            "text/plain": [
              "            Date  Total_Crimes\n",
              "0     2001-01-01           274\n",
              "1     2001-01-02            10\n",
              "2     2001-01-03             4\n",
              "3     2001-01-05             6\n",
              "4     2001-01-06             6\n",
              "...          ...           ...\n",
              "7405  2021-04-14           434\n",
              "7406  2021-04-15           443\n",
              "7407  2021-04-16           458\n",
              "7408  2021-04-17           474\n",
              "7409  2021-04-18             1\n",
              "\n",
              "[7410 rows x 2 columns]"
            ]
          },
          "metadata": {
            "tags": []
          },
          "execution_count": 108
        }
      ]
    },
    {
      "cell_type": "code",
      "metadata": {
        "id": "gqGH8qisqHQi"
      },
      "source": [
        "df_api[\"Date\"] = df_api[\"Date\"].apply(lambda x: str(x.date()))"
      ],
      "execution_count": null,
      "outputs": []
    },
    {
      "cell_type": "code",
      "metadata": {
        "id": "9s93ghycqgpz"
      },
      "source": [
        "df_grouped_day[\"Date\"] = df_grouped_day[\"Date\"].apply(lambda x: str(x))"
      ],
      "execution_count": null,
      "outputs": []
    },
    {
      "source": [
        "## Union de datos de temperatura con crimenes por día"
      ],
      "cell_type": "markdown",
      "metadata": {}
    },
    {
      "cell_type": "code",
      "metadata": {
        "colab": {
          "base_uri": "https://localhost:8080/",
          "height": 402
        },
        "id": "7Ws3nkQPp2to",
        "outputId": "056b613b-523f-4ced-babf-ff3c6d5be28c"
      },
      "source": [
        "df_crimes_temperatures = pd.merge(df_grouped_day, df_api, how = \"inner\", on = \"Date\")\n",
        "df_crimes_temperatures"
      ],
      "execution_count": null,
      "outputs": [
        {
          "output_type": "execute_result",
          "data": {
            "text/html": [
              "<div>\n",
              "<style scoped>\n",
              "    .dataframe tbody tr th:only-of-type {\n",
              "        vertical-align: middle;\n",
              "    }\n",
              "\n",
              "    .dataframe tbody tr th {\n",
              "        vertical-align: top;\n",
              "    }\n",
              "\n",
              "    .dataframe thead th {\n",
              "        text-align: right;\n",
              "    }\n",
              "</style>\n",
              "<table border=\"1\" class=\"dataframe\">\n",
              "  <thead>\n",
              "    <tr style=\"text-align: right;\">\n",
              "      <th></th>\n",
              "      <th>Date</th>\n",
              "      <th>Total_Crimes</th>\n",
              "      <th>Temperature</th>\n",
              "    </tr>\n",
              "  </thead>\n",
              "  <tbody>\n",
              "    <tr>\n",
              "      <th>0</th>\n",
              "      <td>2001-01-01</td>\n",
              "      <td>274</td>\n",
              "      <td>-10.871429</td>\n",
              "    </tr>\n",
              "    <tr>\n",
              "      <th>1</th>\n",
              "      <td>2001-01-02</td>\n",
              "      <td>10</td>\n",
              "      <td>-13.257143</td>\n",
              "    </tr>\n",
              "    <tr>\n",
              "      <th>2</th>\n",
              "      <td>2001-01-03</td>\n",
              "      <td>4</td>\n",
              "      <td>-6.585714</td>\n",
              "    </tr>\n",
              "    <tr>\n",
              "      <th>3</th>\n",
              "      <td>2001-01-05</td>\n",
              "      <td>6</td>\n",
              "      <td>-2.300000</td>\n",
              "    </tr>\n",
              "    <tr>\n",
              "      <th>4</th>\n",
              "      <td>2001-01-06</td>\n",
              "      <td>6</td>\n",
              "      <td>-4.757143</td>\n",
              "    </tr>\n",
              "    <tr>\n",
              "      <th>...</th>\n",
              "      <td>...</td>\n",
              "      <td>...</td>\n",
              "      <td>...</td>\n",
              "    </tr>\n",
              "    <tr>\n",
              "      <th>7405</th>\n",
              "      <td>2021-04-14</td>\n",
              "      <td>434</td>\n",
              "      <td>4.183333</td>\n",
              "    </tr>\n",
              "    <tr>\n",
              "      <th>7406</th>\n",
              "      <td>2021-04-15</td>\n",
              "      <td>443</td>\n",
              "      <td>5.142857</td>\n",
              "    </tr>\n",
              "    <tr>\n",
              "      <th>7407</th>\n",
              "      <td>2021-04-16</td>\n",
              "      <td>458</td>\n",
              "      <td>4.500000</td>\n",
              "    </tr>\n",
              "    <tr>\n",
              "      <th>7408</th>\n",
              "      <td>2021-04-17</td>\n",
              "      <td>474</td>\n",
              "      <td>4.028571</td>\n",
              "    </tr>\n",
              "    <tr>\n",
              "      <th>7409</th>\n",
              "      <td>2021-04-18</td>\n",
              "      <td>1</td>\n",
              "      <td>6.357143</td>\n",
              "    </tr>\n",
              "  </tbody>\n",
              "</table>\n",
              "<p>7410 rows × 3 columns</p>\n",
              "</div>"
            ],
            "text/plain": [
              "            Date  Total_Crimes  Temperature\n",
              "0     2001-01-01           274   -10.871429\n",
              "1     2001-01-02            10   -13.257143\n",
              "2     2001-01-03             4    -6.585714\n",
              "3     2001-01-05             6    -2.300000\n",
              "4     2001-01-06             6    -4.757143\n",
              "...          ...           ...          ...\n",
              "7405  2021-04-14           434     4.183333\n",
              "7406  2021-04-15           443     5.142857\n",
              "7407  2021-04-16           458     4.500000\n",
              "7408  2021-04-17           474     4.028571\n",
              "7409  2021-04-18             1     6.357143\n",
              "\n",
              "[7410 rows x 3 columns]"
            ]
          },
          "metadata": {
            "tags": []
          },
          "execution_count": 119
        }
      ]
    },
    {
      "cell_type": "code",
      "metadata": {
        "colab": {
          "base_uri": "https://localhost:8080/",
          "height": 402
        },
        "id": "1k_Af5wu3sRv",
        "outputId": "8ffbcbfa-b297-42db-dc9d-1a3a1ef06bc5"
      },
      "source": [
        "df_crimes_temperatures"
      ],
      "execution_count": 121,
      "outputs": [
        {
          "output_type": "execute_result",
          "data": {
            "text/html": [
              "<div>\n",
              "<style scoped>\n",
              "    .dataframe tbody tr th:only-of-type {\n",
              "        vertical-align: middle;\n",
              "    }\n",
              "\n",
              "    .dataframe tbody tr th {\n",
              "        vertical-align: top;\n",
              "    }\n",
              "\n",
              "    .dataframe thead th {\n",
              "        text-align: right;\n",
              "    }\n",
              "</style>\n",
              "<table border=\"1\" class=\"dataframe\">\n",
              "  <thead>\n",
              "    <tr style=\"text-align: right;\">\n",
              "      <th></th>\n",
              "      <th>Date</th>\n",
              "      <th>Total_Crimes</th>\n",
              "      <th>Temperature</th>\n",
              "    </tr>\n",
              "  </thead>\n",
              "  <tbody>\n",
              "    <tr>\n",
              "      <th>0</th>\n",
              "      <td>2001-01-01</td>\n",
              "      <td>274</td>\n",
              "      <td>-10.871429</td>\n",
              "    </tr>\n",
              "    <tr>\n",
              "      <th>1</th>\n",
              "      <td>2001-01-02</td>\n",
              "      <td>10</td>\n",
              "      <td>-13.257143</td>\n",
              "    </tr>\n",
              "    <tr>\n",
              "      <th>2</th>\n",
              "      <td>2001-01-03</td>\n",
              "      <td>4</td>\n",
              "      <td>-6.585714</td>\n",
              "    </tr>\n",
              "    <tr>\n",
              "      <th>3</th>\n",
              "      <td>2001-01-05</td>\n",
              "      <td>6</td>\n",
              "      <td>-2.300000</td>\n",
              "    </tr>\n",
              "    <tr>\n",
              "      <th>4</th>\n",
              "      <td>2001-01-06</td>\n",
              "      <td>6</td>\n",
              "      <td>-4.757143</td>\n",
              "    </tr>\n",
              "    <tr>\n",
              "      <th>...</th>\n",
              "      <td>...</td>\n",
              "      <td>...</td>\n",
              "      <td>...</td>\n",
              "    </tr>\n",
              "    <tr>\n",
              "      <th>7405</th>\n",
              "      <td>2021-04-14</td>\n",
              "      <td>434</td>\n",
              "      <td>4.183333</td>\n",
              "    </tr>\n",
              "    <tr>\n",
              "      <th>7406</th>\n",
              "      <td>2021-04-15</td>\n",
              "      <td>443</td>\n",
              "      <td>5.142857</td>\n",
              "    </tr>\n",
              "    <tr>\n",
              "      <th>7407</th>\n",
              "      <td>2021-04-16</td>\n",
              "      <td>458</td>\n",
              "      <td>4.500000</td>\n",
              "    </tr>\n",
              "    <tr>\n",
              "      <th>7408</th>\n",
              "      <td>2021-04-17</td>\n",
              "      <td>474</td>\n",
              "      <td>4.028571</td>\n",
              "    </tr>\n",
              "    <tr>\n",
              "      <th>7409</th>\n",
              "      <td>2021-04-18</td>\n",
              "      <td>1</td>\n",
              "      <td>6.357143</td>\n",
              "    </tr>\n",
              "  </tbody>\n",
              "</table>\n",
              "<p>7410 rows × 3 columns</p>\n",
              "</div>"
            ],
            "text/plain": [
              "            Date  Total_Crimes  Temperature\n",
              "0     2001-01-01           274   -10.871429\n",
              "1     2001-01-02            10   -13.257143\n",
              "2     2001-01-03             4    -6.585714\n",
              "3     2001-01-05             6    -2.300000\n",
              "4     2001-01-06             6    -4.757143\n",
              "...          ...           ...          ...\n",
              "7405  2021-04-14           434     4.183333\n",
              "7406  2021-04-15           443     5.142857\n",
              "7407  2021-04-16           458     4.500000\n",
              "7408  2021-04-17           474     4.028571\n",
              "7409  2021-04-18             1     6.357143\n",
              "\n",
              "[7410 rows x 3 columns]"
            ]
          },
          "metadata": {
            "tags": []
          },
          "execution_count": 121
        }
      ]
    },
    {
      "cell_type": "code",
      "metadata": {
        "id": "xbnHJmVA6sGx"
      },
      "source": [
        "import matplotlib.pyplot as plt\n",
        "import seaborn as sns"
      ],
      "execution_count": 122,
      "outputs": []
    },
    {
      "cell_type": "code",
      "metadata": {
        "colab": {
          "base_uri": "https://localhost:8080/",
          "height": 296
        },
        "id": "0H0ltLe_67hb",
        "outputId": "5f9fe137-42e9-4420-b954-59d7edc31e27"
      },
      "source": [
        "sns.scatterplot(df_crimes_temperatures[\"Temperature\"], df_crimes_temperatures[\"Total_Crimes\"])"
      ],
      "execution_count": 124,
      "outputs": [
        {
          "output_type": "execute_result",
          "data": {
            "text/plain": [
              "<matplotlib.axes._subplots.AxesSubplot at 0x7f867952f590>"
            ]
          },
          "metadata": {
            "tags": []
          },
          "execution_count": 124
        },
        {
          "output_type": "display_data",
          "data": {
            "image/png": "[encoded data removed]",
            "text/plain": [
              "<Figure size 432x288 with 1 Axes>"
            ]
          },
          "metadata": {
            "tags": [],
            "needs_background": "light"
          }
        }
      ]
    },
    {
      "cell_type": "code",
      "metadata": {
        "id": "8x21dvOpqDfO"
      },
      "source": [
        "df_crimes_temperatures.to_csv(os.path.join(mainpath,\"Chicago_Weather_Crimes.csv\"))"
      ],
      "execution_count": null,
      "outputs": []
    }
  ]
}